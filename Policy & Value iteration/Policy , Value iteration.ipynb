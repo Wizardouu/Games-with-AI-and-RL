{
  "nbformat": 4,
  "nbformat_minor": 0,
  "metadata": {
    "colab": {
      "provenance": []
    },
    "kernelspec": {
      "name": "python3",
      "display_name": "Python 3"
    },
    "language_info": {
      "name": "python"
    }
  },
  "cells": [
    {
      "cell_type": "markdown",
      "source": [
        "\n",
        "\n",
        "```\n",
        "                                     Assignment 4 Report\n",
        "          \n",
        "         Student Name:\n",
        "         Yara Hazem Mohamed     7592\n",
        "         Hana waleed            7599\n",
        "         Sohail waleed          7372\n",
        "   \n",
        "     \n",
        "\n",
        "     Introduction:\n",
        "      Considering 3 by 3 Markov decision process we will use value iteration and policy iteration to evaluate optimal policy for different\n",
        "      reward values.\n",
        "```\n",
        "\n"
      ],
      "metadata": {
        "id": "NXLwpDVozBCt"
      }
    },
    {
      "cell_type": "code",
      "source": [
        "REWARD = -1\n",
        "GAMMA = 0.99\n",
        "\n",
        "\n",
        "NUM_ACTIONS = 4\n",
        "ACTIONS = [(1,0),(0,1),(-1,0),(0,-1)]\n",
        "# down left up right\n",
        "ACTIONS_TEXT = [\"DOWN\", \"RIGHT\", \"UP\", \"LEFT\"]\n",
        "\n",
        "NUM_ROWS = 3\n",
        "NUM_COLS = 3\n"
      ],
      "metadata": {
        "id": "fquQ0lHvzBes"
      },
      "execution_count": 1,
      "outputs": []
    },
    {
      "cell_type": "markdown",
      "source": [
        "## Part 1 : value iteration\n",
        "iterative application of Bellman optimality backup\n",
        "At each iteration k +1\n",
        "- For all states s ∈ S Update vk+1(s) from vk(s)\n",
        "- Unlike policy iteration, there is no explicit policy Intermediate value functions may not correspond to any policy\n",
        "- will converge into optimal policy"
      ],
      "metadata": {
        "id": "p3Bq1k0ARbw7"
      }
    },
    {
      "cell_type": "code",
      "source": [
        "from IPython.display import Math, HTML\n",
        "display(HTML(\"<script src='https://cdnjs.cloudflare.com/ajax/libs/mathjax/2.7.3/\"\n",
        "               \"latest.js?config=default'></script>\"))\n",
        "\n",
        "Math(r\"v_{k+1}(s) = \\max_{a \\in A} \\left( R_a^s + \\gamma \\sum_{s' \\in S} P_{ss'}^a \\cdot v_k(s') \\right)\")"
      ],
      "metadata": {
        "colab": {
          "base_uri": "https://localhost:8080/",
          "height": 69
        },
        "id": "1qraVdQcUTqZ",
        "outputId": "822e48a2-e65e-4c03-c980-7aa35742cfdf"
      },
      "execution_count": 2,
      "outputs": [
        {
          "output_type": "display_data",
          "data": {
            "text/plain": [
              "<IPython.core.display.HTML object>"
            ],
            "text/html": [
              "<script src='https://cdnjs.cloudflare.com/ajax/libs/mathjax/2.7.3/latest.js?config=default'></script>"
            ]
          },
          "metadata": {}
        },
        {
          "output_type": "execute_result",
          "data": {
            "text/plain": [
              "<IPython.core.display.Math object>"
            ],
            "text/latex": "$\\displaystyle v_{k+1}(s) = \\max_{a \\in A} \\left( R_a^s + \\gamma \\sum_{s' \\in S} P_{ss'}^a \\cdot v_k(s') \\right)$"
          },
          "metadata": {},
          "execution_count": 2
        }
      ]
    },
    {
      "cell_type": "code",
      "source": [
        "#Calculate new value of state given next action\n",
        "#Pass action / next action as numbers between 0 and 3\n",
        "def get_v (env_v,row,col,next_action):\n",
        "    \"\"\"\n",
        "    Calculate v*(s')\n",
        "    \"\"\"\n",
        "    dr = ACTIONS[next_action][0]\n",
        "    dc = ACTIONS[next_action][1]\n",
        "    newR = row + dr\n",
        "    newC = col + dc\n",
        "    if newR < 0 or newC < 0 or newR >= NUM_ROWS or newC >= NUM_ROWS :\n",
        "        return env_v[row][col]\n",
        "    else:\n",
        "        return env_v[newR][newC]\n",
        "\n"
      ],
      "metadata": {
        "id": "5JukkLFazR4e"
      },
      "execution_count": 3,
      "outputs": []
    },
    {
      "cell_type": "code",
      "source": [
        "def calc_v (env_v ,row, col, action):\n",
        "    \"\"\"\n",
        "    Rs a + GAMMA sum (Pss' a) v*(s')\n",
        "    \"\"\"\n",
        "    v = 0\n",
        "    v += 0.1 * get_v(env_v, row, col, (action-1)%NUM_ACTIONS)\n",
        "    v += 0.8 * get_v(env_v, row, col, action)\n",
        "    v += 0.1 *  get_v(env_v, row, col, (action+1)%NUM_ACTIONS)\n",
        "    v *= GAMMA\n",
        "    r = -1\n",
        "    if (row == 0 and col == 0) or (row == 0 and col == 2):\n",
        "        r = ENV_R[row][col]\n",
        "    v+=r\n",
        "    return v"
      ],
      "metadata": {
        "id": "WcbnU8vjzZE4"
      },
      "execution_count": 4,
      "outputs": []
    },
    {
      "cell_type": "code",
      "source": [
        "def value_iteration(env_v,N):\n",
        "    \"\"\"\n",
        "    Bellman Update equation\n",
        "    \"\"\"\n",
        "    for _ in range (0,N):\n",
        "        nextv = env_v\n",
        "\n",
        "        for r in range(NUM_ROWS):\n",
        "            for c in range(NUM_COLS):\n",
        "                if (r == 0 and c == 0) or (r == 0 and c == 2):\n",
        "                    continue\n",
        "                nextv[r][c] = max([calc_v(env_v, r, c, action) for action in range(NUM_ACTIONS)])\n",
        "\n",
        "        env_v = nextv\n",
        "\n",
        "    return env_v\n"
      ],
      "metadata": {
        "id": "YzzF1Ok6zbNh"
      },
      "execution_count": 5,
      "outputs": []
    },
    {
      "cell_type": "code",
      "source": [
        "def get_policy(env_v):\n",
        "    policy = [[-1, -1, -1] for i in range(NUM_ROWS)]\n",
        "    for r in range(NUM_ROWS):\n",
        "        for c in range(NUM_COLS):\n",
        "            if (r == 0 and c == 0) or (r == 0 and c == 2):\n",
        "                continue\n",
        "            # Choose the action that maximizes the utility\n",
        "            maxAction, maxU = None, -float(\"inf\")\n",
        "            for action in range(NUM_ACTIONS):\n",
        "                u = calc_v(env_v, r, c, action)\n",
        "                if u > maxU:\n",
        "                    maxAction, maxU = action, u\n",
        "            policy[r][c] = maxAction\n",
        "    policy_text = [[\"Terminal\",\"Terminal\", \"Terminal\"] for i in range(NUM_ROWS)]\n",
        "    for r in range(NUM_ROWS):\n",
        "        for c in range(NUM_COLS):\n",
        "            if policy[r][c] == -1:\n",
        "                continue\n",
        "            else:\n",
        "                policy_text[r][c] = ACTIONS_TEXT [policy[r][c]]\n",
        "\n",
        "    return policy_text\n",
        "\n"
      ],
      "metadata": {
        "id": "NnXbyqwTz0yV"
      },
      "execution_count": 6,
      "outputs": []
    },
    {
      "cell_type": "code",
      "source": [
        "def print_2d_grid(grid, N):\n",
        "    print(\"+\" * 4 * N)\n",
        "    for row in grid:\n",
        "        print(\" | \".join([\"{:^{width}}\".format(str(elem), width=N) for elem in row]))\n",
        "    print(\"+\" * 4 * N )\n",
        "\n",
        "diff_r = [100,3,0,-3]\n",
        "\n",
        "for r in diff_r:\n",
        "    print(f\"FOR R = {r}\")\n",
        "    ENV_R = [[r,-1,10], [-1,-1,-1], [-1,-1,-1]]\n",
        "    env_v = [[r,0,10],[0,0,0],[0,0,0]]\n",
        "    V = value_iteration(env_v, 100)\n",
        "    print_2d_grid(V,20)\n",
        "    print(\"\\n\")\n",
        "    p = get_policy(V)\n",
        "    print_2d_grid(p,10)\n",
        "\n",
        "    print(\"\\n\\n\")"
      ],
      "metadata": {
        "colab": {
          "base_uri": "https://localhost:8080/"
        },
        "id": "mOfWTf_W0GJ7",
        "outputId": "07e9c107-5111-4b67-86b1-7bc434ea69e4"
      },
      "execution_count": 7,
      "outputs": [
        {
          "output_type": "stream",
          "name": "stdout",
          "text": [
            "FOR R = 100\n",
            "++++++++++++++++++++++++++++++++++++++++++++++++++++++++++++++++++++++++++++++++\n",
            "        100          |  97.20352595280221   |          10         \n",
            " 97.20352595280221   |  94.75128165126046   |  88.20426099658746  \n",
            "  94.4818341641876   |  92.35292956882506   |  89.76219984147792  \n",
            "++++++++++++++++++++++++++++++++++++++++++++++++++++++++++++++++++++++++++++++++\n",
            "\n",
            "\n",
            "++++++++++++++++++++++++++++++++++++++++\n",
            " Terminal  |    LEFT    |  Terminal \n",
            "    UP     |    LEFT    |    DOWN   \n",
            "    UP     |    LEFT    |    LEFT   \n",
            "++++++++++++++++++++++++++++++++++++++++\n",
            "\n",
            "\n",
            "\n",
            "FOR R = 3\n",
            "++++++++++++++++++++++++++++++++++++++++++++++++++++++++++++++++++++++++++++++++\n",
            "         3           |   8.46193927404121   |          10         \n",
            " 5.383565054208173   |  7.113204908193241   |   8.46193927404121  \n",
            " 4.574815827465922   |  5.794111262853771   |  6.965008790303176  \n",
            "++++++++++++++++++++++++++++++++++++++++++++++++++++++++++++++++++++++++++++++++\n",
            "\n",
            "\n",
            "++++++++++++++++++++++++++++++++++++++++\n",
            " Terminal  |   RIGHT    |  Terminal \n",
            "  RIGHT    |   RIGHT    |     UP    \n",
            "  RIGHT    |   RIGHT    |     UP    \n",
            "++++++++++++++++++++++++++++++++++++++++\n",
            "\n",
            "\n",
            "\n",
            "FOR R = 0\n",
            "++++++++++++++++++++++++++++++++++++++++++++++++++++++++++++++++++++++++++++++++\n",
            "         0           |   8.46193927404121   |          10         \n",
            " 5.083298783711909   |  7.113204908193241   |   8.46193927404121  \n",
            " 4.541823196190527   |  5.794111262853771   |  6.965008790303176  \n",
            "++++++++++++++++++++++++++++++++++++++++++++++++++++++++++++++++++++++++++++++++\n",
            "\n",
            "\n",
            "++++++++++++++++++++++++++++++++++++++++\n",
            " Terminal  |   RIGHT    |  Terminal \n",
            "  RIGHT    |   RIGHT    |     UP    \n",
            "  RIGHT    |   RIGHT    |     UP    \n",
            "++++++++++++++++++++++++++++++++++++++++\n",
            "\n",
            "\n",
            "\n",
            "FOR R = -3\n",
            "++++++++++++++++++++++++++++++++++++++++++++++++++++++++++++++++++++++++++++++++\n",
            "         -3          |   8.46193927404121   |          10         \n",
            " 4.7830325132156455  |  7.113204908193241   |   8.46193927404121  \n",
            " 4.508830564915133   |  5.794111262853771   |  6.965008790303176  \n",
            "++++++++++++++++++++++++++++++++++++++++++++++++++++++++++++++++++++++++++++++++\n",
            "\n",
            "\n",
            "++++++++++++++++++++++++++++++++++++++++\n",
            " Terminal  |   RIGHT    |  Terminal \n",
            "  RIGHT    |   RIGHT    |     UP    \n",
            "  RIGHT    |   RIGHT    |     UP    \n",
            "++++++++++++++++++++++++++++++++++++++++\n",
            "\n",
            "\n",
            "\n"
          ]
        }
      ]
    },
    {
      "cell_type": "markdown",
      "source": [
        "Using a Discount factor 0,99 implies that the future rewards are slightly less valuable than immediate rewards\n",
        "\n",
        "for R= 100\n",
        "The reward for reaching this terminal state is much larger than any other reward, so the policy is toward the 100\n",
        "\n",
        "for r= -3\n",
        "the top left corner is a big loss , so the model will avoid it and try to reach towards the 10 reward\n",
        "\n",
        "for r= 0\n",
        "this is a neutral value, the policy will want to reach the 10 reward.\n",
        "\n",
        "for r = 3\n",
        "it is a reward but smaller than 10 reward, the policy will prefer to go to 10"
      ],
      "metadata": {
        "id": "sU0LZ1FpYzCp"
      }
    },
    {
      "cell_type": "markdown",
      "source": [
        "## part 2 :policy iteration"
      ],
      "metadata": {
        "id": "LtifPWl8S-t4"
      }
    },
    {
      "cell_type": "markdown",
      "source": [
        "Given a policy π Evaluate the policy π vπ(s) = E[Rt+1 +γRt+2 +...|St = s] Improve the policy by acting greedily with respect to vπ π=greedy(vπ)"
      ],
      "metadata": {
        "id": "-y_k0mtUbQTT"
      }
    },
    {
      "cell_type": "code",
      "source": [
        "def evaluate_policy(policy, grid):\n",
        "   for i in range(300):\n",
        "        for r in range(3):\n",
        "            for c in range(3):\n",
        "                if (r == 0 and c == 0) or (r == 0 and c == 2):\n",
        "                    continue\n",
        "                v = grid[r][c]\n",
        "                V_pi = calc_v(grid, r, c, policy[r][c])\n",
        "                grid[r][c] = V_pi\n",
        "def improve_policy(policy, grid):\n",
        "    policy_stable = True\n",
        "    for r in range(3):\n",
        "        for c in range(3):\n",
        "            if (r == 0 and c == 0) or (r == 0 and c == 2):\n",
        "                continue\n",
        "            old_action = policy[r][c]\n",
        "            max_value = -1000000\n",
        "            best_action = 0\n",
        "            for action in range(NUM_ACTIONS):\n",
        "                value = calc_v(grid, r, c, action)\n",
        "                if value > max_value:\n",
        "                    max_value = value\n",
        "                    best_action = action\n",
        "            policy[r][c] = best_action\n",
        "\n",
        "\n",
        "def print_policy(policy):\n",
        "    for row in range(NUM_ROWS):\n",
        "        for col in range(NUM_COLS):\n",
        "            if (row == 0 and col == 0) or (row == 0 and col == 2):\n",
        "                print(\"Terminal\", end=\" | \")\n",
        "            else:\n",
        "                print(ACTIONS_TEXT[policy[row][col]], end=\" | \")\n",
        "        print()\n",
        "\n",
        "r=100\n",
        "env_v = [[r, 0, 10], [0, 0, 0], [0, 0, 0]]\n",
        "policy = [[0, 0, 0] for _ in range(NUM_ROWS)]  # Initialize policy arbitrarily\n",
        "policy_stable = False\n",
        "i=0\n",
        "for k in range(100):\n",
        "    evaluate_policy(policy, env_v)\n",
        "    improve_policy(policy, env_v)\n",
        "print(\"Final Policy:\")\n",
        "print_policy(policy)\n",
        "\n"
      ],
      "metadata": {
        "id": "CLubhwO2TNoA",
        "colab": {
          "base_uri": "https://localhost:8080/"
        },
        "outputId": "9c1dfd89-a822-4a5e-f9e6-cec179fedaf5"
      },
      "execution_count": 8,
      "outputs": [
        {
          "output_type": "stream",
          "name": "stdout",
          "text": [
            "Final Policy:\n",
            "Terminal | LEFT | Terminal | \n",
            "UP | LEFT | DOWN | \n",
            "UP | LEFT | LEFT | \n"
          ]
        }
      ]
    },
    {
      "cell_type": "code",
      "source": [
        "r=10\n",
        "env_v = [[r, 0, 10], [0, 0, 0], [0, 0, 0]]\n",
        "policy = [[0, 0, 0] for _ in range(NUM_ROWS)]  # Initialize policy arbitrarily\n",
        "policy_stable = False\n",
        "i=0\n",
        "for k in range(100):\n",
        "    evaluate_policy(policy, env_v)\n",
        "    improve_policy(policy, env_v)\n",
        "print(\"Final Policy:\")\n",
        "print_policy(policy)"
      ],
      "metadata": {
        "id": "PCbC1z3HTU-d",
        "colab": {
          "base_uri": "https://localhost:8080/"
        },
        "outputId": "e0eba5f1-87c9-415d-e28a-04e9a9a2b605"
      },
      "execution_count": 9,
      "outputs": [
        {
          "output_type": "stream",
          "name": "stdout",
          "text": [
            "Final Policy:\n",
            "Terminal | RIGHT | Terminal | \n",
            "UP | UP | UP | \n",
            "UP | UP | UP | \n"
          ]
        }
      ]
    },
    {
      "cell_type": "code",
      "source": [
        "r=3\n",
        "env_v = [[r, 0, 10], [0, 0, 0], [0, 0, 0]]\n",
        "policy = [[0, 0, 0] for _ in range(NUM_ROWS)]  # Initialize policy arbitrarily\n",
        "policy_stable = False\n",
        "i=0\n",
        "for k in range(100):\n",
        "    evaluate_policy(policy, env_v)\n",
        "    improve_policy(policy, env_v)\n",
        "print(\"Final Policy:\")\n",
        "print_policy(policy)"
      ],
      "metadata": {
        "id": "j92CyO-_TbSc",
        "colab": {
          "base_uri": "https://localhost:8080/"
        },
        "outputId": "e5de33ff-47a0-43d1-f80b-b6d941809e06"
      },
      "execution_count": 10,
      "outputs": [
        {
          "output_type": "stream",
          "name": "stdout",
          "text": [
            "Final Policy:\n",
            "Terminal | RIGHT | Terminal | \n",
            "RIGHT | RIGHT | UP | \n",
            "RIGHT | RIGHT | UP | \n"
          ]
        }
      ]
    },
    {
      "cell_type": "code",
      "source": [
        "r=0\n",
        "env_v = [[r, 0, 10], [0, 0, 0], [0, 0, 0]]\n",
        "policy = [[0, 0, 0] for _ in range(NUM_ROWS)]  # Initialize policy arbitrarily\n",
        "policy_stable = False\n",
        "i=0\n",
        "for k in range(100):\n",
        "    evaluate_policy(policy, env_v)\n",
        "    improve_policy(policy, env_v)\n",
        "print(\"Final Policy:\")\n",
        "print_policy(policy)"
      ],
      "metadata": {
        "id": "5FexRYoQTeL7",
        "colab": {
          "base_uri": "https://localhost:8080/"
        },
        "outputId": "ea58e8c0-6e49-460d-dcbd-3e70ed02ab71"
      },
      "execution_count": 11,
      "outputs": [
        {
          "output_type": "stream",
          "name": "stdout",
          "text": [
            "Final Policy:\n",
            "Terminal | RIGHT | Terminal | \n",
            "RIGHT | RIGHT | UP | \n",
            "RIGHT | RIGHT | UP | \n"
          ]
        }
      ]
    },
    {
      "cell_type": "code",
      "source": [
        "r=-3\n",
        "env_v = [[r, 0, 10], [0, 0, 0], [0, 0, 0]]\n",
        "policy = [[0, 0, 0] for _ in range(NUM_ROWS)]  # Initialize policy arbitrarily\n",
        "policy_stable = False\n",
        "i=0\n",
        "for k in range(100):\n",
        "    evaluate_policy(policy, env_v)\n",
        "    improve_policy(policy, env_v)\n",
        "print(\"Final Policy:\")\n",
        "print_policy(policy)"
      ],
      "metadata": {
        "colab": {
          "base_uri": "https://localhost:8080/"
        },
        "id": "gZ3n_u0fTiMx",
        "outputId": "a2f79999-bbd0-48c1-cded-49d3d943d75d"
      },
      "execution_count": 12,
      "outputs": [
        {
          "output_type": "stream",
          "name": "stdout",
          "text": [
            "Final Policy:\n",
            "Terminal | RIGHT | Terminal | \n",
            "RIGHT | RIGHT | UP | \n",
            "RIGHT | RIGHT | UP | \n"
          ]
        }
      ]
    },
    {
      "cell_type": "code",
      "source": [
        "def evaluate_policy(policy, env_v):\n",
        "    delta = float('inf')\n",
        "    while delta > 0.01:\n",
        "        delta = 0\n",
        "        for r in range(NUM_ROWS):\n",
        "            for c in range(NUM_COLS):\n",
        "                if (r == 0 and c == 0) or (r == 0 and c == 2):\n",
        "                    continue\n",
        "                v = env_v[r][c]\n",
        "                new_v = calc_v(env_v, r, c, policy[r][c])\n",
        "                env_v[r][c] = new_v\n",
        "                delta = max(delta, abs(v - new_v))\n",
        "\n",
        "def improve_policy(policy, env_v):\n",
        "    policy_stable = True\n",
        "    for r in range(NUM_ROWS):\n",
        "        for c in range(NUM_COLS):\n",
        "            if (r == 0 and c == 0) or (r == 0 and c == 2):\n",
        "                continue\n",
        "            old_action = policy[r][c]\n",
        "            max_action, max_u = None, -float(\"inf\")\n",
        "            for action in range(NUM_ACTIONS):\n",
        "                u = calc_v(env_v, r, c, action)\n",
        "                if u > max_u:\n",
        "                    max_action, max_u = action, u\n",
        "            policy[r][c] = max_action\n",
        "\n",
        "\n",
        "\n",
        "def print_policy(policy):\n",
        "    for row in range(NUM_ROWS):\n",
        "        for col in range(NUM_COLS):\n",
        "            if (row == 0 and col == 0) or (row == 0 and col == 2):\n",
        "                print(\"Terminal\", end=\" | \")\n",
        "            else:\n",
        "                print(ACTIONS_TEXT[policy[row][col]], end=\" | \")\n",
        "        print()\n",
        "\n",
        "r=100\n",
        "env_v = [[r, 0, 10], [0, 0, 0], [0, 0, 0]]\n",
        "policy = [[0, 0, 0] for _ in range(NUM_ROWS)]  # Initialize policy arbitrarily\n",
        "policy_stable = False\n",
        "i=0\n",
        "for k in range(100):\n",
        "    i=i+1\n",
        "    evaluate_policy(policy, env_v)\n",
        "    improve_policy(policy, env_v)\n",
        "print(i)\n",
        "print(\"Final Policy:\")\n",
        "print_policy(policy)\n",
        "\n",
        "print(\"\\nState Values:\")\n",
        "print_2d_grid(env_v, 10)\n"
      ],
      "metadata": {
        "colab": {
          "base_uri": "https://localhost:8080/"
        },
        "id": "twVPO8DIXmho",
        "outputId": "9dd875e2-1393-4a53-d307-a473ec51404e"
      },
      "execution_count": 18,
      "outputs": [
        {
          "output_type": "stream",
          "name": "stdout",
          "text": [
            "100\n",
            "Final Policy:\n",
            "Terminal | LEFT | Terminal | \n",
            "UP | LEFT | DOWN | \n",
            "UP | LEFT | LEFT | \n",
            "\n",
            "State Values:\n",
            "++++++++++++++++++++++++++++++++++++++++\n",
            "   100     | 97.20352595280221 |     10    \n",
            "97.20352595280221 | 94.75128165126046 | 88.20426099658746\n",
            "94.4818341641876 | 92.35292956882506 | 89.76219984147792\n",
            "++++++++++++++++++++++++++++++++++++++++\n"
          ]
        }
      ]
    },
    {
      "cell_type": "code",
      "source": [
        "r=10\n",
        "env_v = [[r, 0, 10], [0, 0, 0], [0, 0, 0]]\n",
        "policy = [[0, 0, 0] for _ in range(NUM_ROWS)]  # Initialize policy arbitrarily\n",
        "policy_stable = False\n",
        "i=0\n",
        "for k in range(100):\n",
        "    i=i+1\n",
        "    evaluate_policy(policy, env_v)\n",
        "    improve_policy(policy, env_v)\n",
        "print(i)\n",
        "print(\"Final Policy:\")\n",
        "print_policy(policy)\n",
        "\n",
        "print(\"\\nState Values:\")\n",
        "print_2d_grid(env_v, 10)"
      ],
      "metadata": {
        "colab": {
          "base_uri": "https://localhost:8080/"
        },
        "id": "fW_o6zn3Zjyg",
        "outputId": "ea6e7d1c-3c4c-4503-d1ad-d53bdcc137ce"
      },
      "execution_count": 19,
      "outputs": [
        {
          "output_type": "stream",
          "name": "stdout",
          "text": [
            "100\n",
            "Final Policy:\n",
            "Terminal | RIGHT | Terminal | \n",
            "UP | UP | UP | \n",
            "UP | UP | UP | \n",
            "\n",
            "State Values:\n",
            "++++++++++++++++++++++++++++++++++++++++\n",
            "    10     | 8.494501799524278 |     10    \n",
            "8.494501799524278 | 7.4095567815290355 | 8.494501799524278\n",
            "7.045187251785636 | 6.263316046824553 | 7.045187251785636\n",
            "++++++++++++++++++++++++++++++++++++++++\n"
          ]
        }
      ]
    },
    {
      "cell_type": "code",
      "source": [
        "r=3\n",
        "env_v = [[r, 0, 10], [0, 0, 0], [0, 0, 0]]\n",
        "policy = [[0, 0, 0] for _ in range(NUM_ROWS)]  # Initialize policy arbitrarily\n",
        "policy_stable = False\n",
        "i=0\n",
        "for k in range(100):\n",
        "    i=i+1\n",
        "    evaluate_policy(policy, env_v)\n",
        "    improve_policy(policy, env_v)\n",
        "print(i)\n",
        "print(\"Final Policy:\")\n",
        "print_policy(policy)\n",
        "\n",
        "print(\"\\nState Values:\")\n",
        "print_2d_grid(env_v, 10)"
      ],
      "metadata": {
        "colab": {
          "base_uri": "https://localhost:8080/"
        },
        "id": "FFy8SaU3ZkCq",
        "outputId": "1cd9962f-a516-4368-d63d-e2ffea9c2baf"
      },
      "execution_count": 20,
      "outputs": [
        {
          "output_type": "stream",
          "name": "stdout",
          "text": [
            "100\n",
            "Final Policy:\n",
            "Terminal | RIGHT | Terminal | \n",
            "RIGHT | RIGHT | UP | \n",
            "RIGHT | RIGHT | UP | \n",
            "\n",
            "State Values:\n",
            "++++++++++++++++++++++++++++++++++++++++\n",
            "    3      | 8.46193927404121 |     10    \n",
            "5.383565054208173 | 7.113204908193241 | 8.46193927404121\n",
            "4.574815827465922 | 5.794111262853771 | 6.965008790303176\n",
            "++++++++++++++++++++++++++++++++++++++++\n"
          ]
        }
      ]
    },
    {
      "cell_type": "code",
      "source": [
        "r=0\n",
        "env_v = [[r, 0, 10], [0, 0, 0], [0, 0, 0]]\n",
        "policy = [[0, 0, 0] for _ in range(NUM_ROWS)]  # Initialize policy arbitrarily\n",
        "policy_stable = False\n",
        "i=0\n",
        "for k in range(100):\n",
        "    i=i+1\n",
        "    evaluate_policy(policy, env_v)\n",
        "    improve_policy(policy, env_v)\n",
        "print(i)\n",
        "print(\"Final Policy:\")\n",
        "print_policy(policy)\n",
        "\n",
        "print(\"\\nState Values:\")\n",
        "print_2d_grid(env_v, 10)"
      ],
      "metadata": {
        "colab": {
          "base_uri": "https://localhost:8080/"
        },
        "id": "VC5s5d-wZkIV",
        "outputId": "e3ad0c0d-1d92-4f44-a71a-69ef6ea4f9ec"
      },
      "execution_count": 21,
      "outputs": [
        {
          "output_type": "stream",
          "name": "stdout",
          "text": [
            "100\n",
            "Final Policy:\n",
            "Terminal | RIGHT | Terminal | \n",
            "RIGHT | RIGHT | UP | \n",
            "RIGHT | RIGHT | UP | \n",
            "\n",
            "State Values:\n",
            "++++++++++++++++++++++++++++++++++++++++\n",
            "    0      | 8.46193927404121 |     10    \n",
            "5.083298783711909 | 7.113204908193241 | 8.46193927404121\n",
            "4.541823196190527 | 5.794111262853771 | 6.965008790303176\n",
            "++++++++++++++++++++++++++++++++++++++++\n"
          ]
        }
      ]
    },
    {
      "cell_type": "code",
      "source": [
        "r=-3\n",
        "env_v = [[r, 0, 10], [0, 0, 0], [0, 0, 0]]\n",
        "policy = [[0, 0, 0] for _ in range(NUM_ROWS)]  # Initialize policy arbitrarily\n",
        "policy_stable = False\n",
        "i=0\n",
        "for k in range(100):\n",
        "    i=i+1\n",
        "    evaluate_policy(policy, env_v)\n",
        "    improve_policy(policy, env_v)\n",
        "print(i)\n",
        "print(\"Final Policy:\")\n",
        "print_policy(policy)\n",
        "\n",
        "print(\"\\nState Values:\")\n",
        "print_2d_grid(env_v, 10)"
      ],
      "metadata": {
        "colab": {
          "base_uri": "https://localhost:8080/"
        },
        "id": "3wUPbtE5ZnzD",
        "outputId": "756c8dd4-dcb9-4dee-ac2e-d06531f8b3ce"
      },
      "execution_count": 22,
      "outputs": [
        {
          "output_type": "stream",
          "name": "stdout",
          "text": [
            "100\n",
            "Final Policy:\n",
            "Terminal | RIGHT | Terminal | \n",
            "RIGHT | RIGHT | UP | \n",
            "RIGHT | RIGHT | UP | \n",
            "\n",
            "State Values:\n",
            "++++++++++++++++++++++++++++++++++++++++\n",
            "    -3     | 8.46193927404121 |     10    \n",
            "4.7830325132156455 | 7.113204908193241 | 8.46193927404121\n",
            "4.508830564915133 | 5.794111262853771 | 6.965008790303176\n",
            "++++++++++++++++++++++++++++++++++++++++\n"
          ]
        }
      ]
    },
    {
      "cell_type": "markdown",
      "source": [
        "\n",
        "\n",
        "* For value iteration Complexity O(mn2) per iteration, for m actions and n states\n",
        "*  For policy iteration Complexity O (m2n2) per iteration\n",
        "\n"
      ],
      "metadata": {
        "id": "CaY8hjSnY-gz"
      }
    },
    {
      "cell_type": "markdown",
      "source": [
        "## Comparsion between value iteration and policy iteration\n",
        "\n",
        "\n",
        "\n",
        "1. Policy Iteration\n",
        "\n",
        "*  Starts with a random policy\n",
        "*  Algorithm is more complex\n",
        "\n",
        "\n",
        "*   Guaranteed to converge\n",
        "*   Cheaper to compute\n",
        "\n",
        "*   Requires few iterations to converge\n",
        "*   Faster\n",
        "----------------------------------------------------------\n",
        "\n",
        "\n",
        "2.  Value Iteration\n",
        "\n",
        "*  Starts with a random value function\n",
        "\n",
        "*  Algorithm is simpler\n",
        "\n",
        "*   Guaranteed to converge\n",
        "*   More expensive to compute\n",
        "\n",
        "\n",
        "*   Requires more iterations to converge\n",
        "\n",
        "\n",
        "*   Slower\n",
        "\n",
        "\n",
        "\n",
        "\n",
        "\n",
        "\n",
        "\n",
        "\n"
      ],
      "metadata": {
        "id": "5nijuvuoZ8kY"
      }
    }
  ]
}